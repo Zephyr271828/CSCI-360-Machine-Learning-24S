{
 "cells": [
  {
   "cell_type": "code",
   "execution_count": 92,
   "metadata": {},
   "outputs": [],
   "source": [
    "# all the packages you need\n",
    "from __future__ import division\n",
    "import sys\n",
    "import numpy as np\n",
    "import time\n",
    "import scipy.io as io\n",
    "import scipy.sparse as sparse\n",
    "import matplotlib.pyplot as plt\n",
    "%matplotlib inline"
   ]
  },
  {
   "cell_type": "code",
   "execution_count": 93,
   "metadata": {},
   "outputs": [],
   "source": [
    "# synthetic data generator\n",
    "# n is number of samples, d is number of dimensions, k is number of nonzeros in w, sigma is std of noise, \n",
    "# X is a n x d data matrix, y=Xw+w_0+noise is a n-dimensional vector, w is the true weight vector, w0 is true intercept\n",
    "def DataGenerator(n = 50, d = 75, k = 5, sigma = 1.0, w0 = 0.0, seed = 256):\n",
    "    \n",
    "    np.random.seed(seed)\n",
    "    X = np.random.normal(0,1,(n,d))\n",
    "    w = np.random.binomial(1,0.5,k)\n",
    "    noise = np.random.normal(0,sigma,n)\n",
    "    w[w == 1] = 10.0\n",
    "    w[w == 0] = -10.0\n",
    "    w = np.append(w, np.zeros(d - k))\n",
    "    y = X.dot(w) + w0 + noise\n",
    "    return (X, y, w, w0)"
   ]
  },
  {
   "cell_type": "code",
   "execution_count": 94,
   "metadata": {},
   "outputs": [],
   "source": [
    "# initialization of W for lasso by least square regression or ridge regression\n",
    "def Initialw(X, y):\n",
    "\n",
    "    n, d = X.shape\n",
    "    # increment X\n",
    "    if sparse.issparse(X):\n",
    "        XI = sparse.hstack((X, np.ones(n).reshape(n,1))) \n",
    "        # stack a matrix and a column\n",
    "    else:\n",
    "        XI = np.hstack((X, np.ones(n).reshape(n,1)))\n",
    "\n",
    "    if sparse.issparse(X):\n",
    "        if n >= d:\n",
    "            w = sparse.linalg.lsqr(XI, y)[0]\n",
    "            # finds the least square solution to a linear system: W*XI=y\n",
    "            # n >= d: close-form exists\n",
    "        else:\n",
    "            w = sparse.linalg.inv(XI.T.dot(XI) + 1e-3 * sparse.eye(d+1)).dot(XI.T.dot(y))\n",
    "            # (X^T X + \\epsilon)^(-1) X^T y\n",
    "            # n < d: only approximation exists\n",
    "            w = w.T\n",
    "    else:\n",
    "        if n >= d:\n",
    "            w = np.linalg.lstsq(XI, y)[0]\n",
    "            # least square solution\n",
    "        else:\n",
    "            w = np.linalg.inv(XI.T.dot(XI) + 1e-3 * np.eye(d+1)).dot(XI.T.dot(y))\n",
    " \n",
    "    return (w[:d], w[d])"
   ]
  },
  {
   "cell_type": "code",
   "execution_count": 95,
   "metadata": {},
   "outputs": [],
   "source": [
    "# Helper and example function of sparse matrix operation for Problem 2.5\n",
    "# W: a scipy.sparse.csc_matrix\n",
    "# x: a vector with length equal to the number of columns of W\n",
    "# In place change the data stored in W,\n",
    "# so that every row of W gets element-wise multiplied by x\n",
    "def cscMatInplaceEleMultEveryRow(W, x):\n",
    "    indptr = W.indptr\n",
    "    last_idx = indptr[0]\n",
    "    for col_id, idx in enumerate(indptr[1:]):\n",
    "        if idx == last_idx:\n",
    "            continue\n",
    "        else:\n",
    "            W.data[last_idx:idx] *= x[col_id]\n",
    "            last_idx = idx"
   ]
  },
  {
   "cell_type": "code",
   "execution_count": 96,
   "metadata": {},
   "outputs": [],
   "source": [
    "# Sub-Problem 1\n",
    "# TODO: coordinate descent of lasso, note lmda stands for lambda\n",
    "def F(XI, y, W, lmda):\n",
    "    diff = np.matmul(XI, W) - y\n",
    "    loss = 0.5 * np.matmul(diff.T, diff) + lmda * np.sum(np.abs(W[:-1]))\n",
    "    return loss\n",
    "\n",
    "def lasso(X, y, lmda = 10.0, epsilon = 1.0e-2, max_iter = 100, draw_curve = False):\n",
    "    #########TODO##########\n",
    "    w, w0 = Initialw(X, y)\n",
    "    n, d = X.shape\n",
    "    W = np.hstack((w, w0))\n",
    "    XI = np.hstack((X, np.ones(n).reshape(n,1)))\n",
    "    iterations = []\n",
    "    losses = []\n",
    "    for i in range(max_iter):\n",
    "        tmp = np.copy(W)\n",
    "        for j in range(d + 1):\n",
    "            mask = np.hstack((np.arange(j), np.arange(j + 1, d + 1)))\n",
    "            #print(mask)\n",
    "            r = y - np.matmul(XI[:, mask], W[mask])\n",
    "            a = np.dot(XI[:, j].T, XI[:, j])\n",
    "            c = np.dot(r, XI[:, j])\n",
    "            last = W[j]\n",
    "            if c < -lmda:\n",
    "                W[j] = (c + lmda) / a\n",
    "            elif c > lmda:\n",
    "                W[j] = (c - lmda) / a\n",
    "            else:\n",
    "                W[j] = 0\n",
    "        iterations.append(i + 1)\n",
    "        loss = F(XI, y, W, lmda)\n",
    "        losses.append(loss)\n",
    "        if (np.abs(W - tmp) <= epsilon).all():\n",
    "            #print(i)\n",
    "            break\n",
    "    if draw_curve:\n",
    "        plt.plot(iterations, losses)\n",
    "        plt.xlabel('iterations')\n",
    "        plt.ylabel('F(theta)')\n",
    "        plt.savefig('figs/2.1.pdf')\n",
    "        plt.show()\n",
    "    w, w0 = W[:d], W[d]\n",
    "    return (w, w0)"
   ]
  },
  {
   "cell_type": "code",
   "execution_count": 305,
   "metadata": {},
   "outputs": [
    {
     "name": "stdout",
     "output_type": "stream",
     "text": [
      "[[ 0.10430293 -0.55011253 -0.07271465 ...  0.54423528 -0.12555319\n",
      "   0.29833038]\n",
      " [-0.93920808 -0.88460697 -0.36846914 ... -0.50546019 -0.04159342\n",
      "  -0.01291595]\n",
      " [ 0.31860678  0.09803393  0.79127714 ...  0.84931761 -0.42616459\n",
      "   0.76857532]\n",
      " ...\n",
      " [ 0.55546365  0.84917102 -0.82208175 ... -2.03365761  0.28594759\n",
      "   0.30328844]\n",
      " [-0.31075096  0.86697979 -0.2050817  ...  0.132073   -1.3469008\n",
      "  -0.29268038]\n",
      " [ 2.51943233  1.03025557 -0.30999576 ... -2.86031678 -0.43470702\n",
      "   1.70951079]]\n",
      "[-7.93452268e+00 -6.87566861e+00  5.68374639e-02 -1.94470223e+01\n",
      "  1.87131844e+01  4.20497625e+01  6.90698646e+00  2.03785690e+01\n",
      "  1.78108400e+01  4.65235311e+00  2.63299434e+01 -1.90828279e+01\n",
      "  3.02355009e+01 -3.04834891e+00  2.90505728e+01 -7.77200894e+00\n",
      " -1.93982280e+01 -2.77393652e+00  5.07843132e+00  2.23407469e+01\n",
      " -1.34518275e+01  1.11170455e+01 -9.41918304e+00 -3.00534897e+01\n",
      " -1.51874463e+01 -3.05091015e+01 -1.63346731e+01  2.72735794e+00\n",
      " -1.68427630e+01 -2.30655049e+01 -2.30117919e+01 -1.04504073e+01\n",
      " -4.15216226e+01  1.19247479e+01  6.90689743e+00 -4.15691839e+01\n",
      "  1.71905478e+01  1.46896635e+01  2.75368224e+01 -3.08844234e+01\n",
      "  1.42775550e+01  3.08168943e+00  3.17963073e+01 -2.89276368e+01\n",
      " -1.11789430e+01  4.71659190e+00  2.12806724e+01 -1.26508471e+01\n",
      " -2.08494556e+01  1.22200362e+01  5.06147559e+01  2.02808009e+01\n",
      "  1.80959750e+00 -4.98993672e+00  2.15931253e-01 -7.42415135e-01\n",
      " -6.79764439e+00 -4.70278995e+00  1.12035875e+01 -2.00970126e+00\n",
      "  1.60550855e+00  2.24619380e+01 -2.28130027e+00  1.16093953e+01\n",
      "  2.76370584e+01 -1.79973313e+01 -1.99417564e+01  3.22468312e+00\n",
      " -1.24746992e+01  2.51966960e+01  7.01916415e+00 -1.15615600e+01\n",
      " -1.17804075e+01  2.25617771e+01  1.92630315e+00  1.75298954e+01\n",
      "  7.69038330e+00  2.65549032e+01  2.06864743e+01  3.78155509e+01\n",
      "  3.24903589e+01  3.72047545e+01  4.54093283e+00  2.34031274e+01\n",
      "  1.94728797e+00  6.44395031e-01 -9.16217532e+00 -1.95907673e+01\n",
      "  3.34831600e+01 -1.12460166e+01 -2.45407125e+01  1.69927032e+01\n",
      "  8.09718711e+00 -7.66609812e+00 -2.19538268e+01 -5.81884288e+01\n",
      "  3.05881427e+01 -3.43947544e+00  2.01930476e+01  3.98873233e+01]\n",
      "[ 10.  10. -10. -10.  10.   0.   0.   0.   0.   0.   0.   0.   0.   0.\n",
      "   0.   0.   0.   0.   0.   0.   0.   0.   0.   0.   0.   0.   0.   0.\n",
      "   0.   0.   0.   0.   0.   0.   0.   0.   0.   0.   0.   0.   0.   0.\n",
      "   0.   0.   0.   0.   0.   0.   0.   0.   0.   0.   0.   0.   0.   0.\n",
      "   0.   0.   0.   0.   0.   0.   0.   0.   0.   0.   0.   0.   0.   0.\n",
      "   0.   0.   0.   0.   0.   0.   0.   0.   0.   0.   0.   0.   0.   0.\n",
      "   0.   0.   0.   0.   0.   0.   0.   0.   0.   0.   0.   0.   0.   0.\n",
      "   0.   0.   0.   0.   0.   0.   0.   0.   0.   0.   0.   0.   0.   0.\n",
      "   0.   0.   0.   0.   0.   0.   0.   0.   0.   0.   0.   0.   0.   0.\n",
      "   0.   0.   0.   0.   0.   0.   0.   0.   0.   0.   0.   0.   0.   0.\n",
      "   0.   0.   0.   0.   0.   0.   0.   0.   0.   0.]\n",
      "0.0\n"
     ]
    }
   ],
   "source": [
    "# Sub-Problem 1: data generation\n",
    "n = 100\n",
    "m = 150\n",
    "\n",
    "X, y, w_true, w0_true = DataGenerator(n=n, d=m, k=5, sigma=1.0, w0=0.0)\n",
    "# have a look at generated data and true model\n",
    "print(X)\n",
    "print(y)\n",
    "print(w_true)\n",
    "print(w0_true)"
   ]
  },
  {
   "cell_type": "code",
   "execution_count": 306,
   "metadata": {},
   "outputs": [
    {
     "data": {
      "image/png": "[encoded data removed]",
      "text/plain": [
       "<Figure size 640x480 with 1 Axes>"
      ]
     },
     "metadata": {},
     "output_type": "display_data"
    },
    {
     "name": "stdout",
     "output_type": "stream",
     "text": [
      "[ 1.00585568e+01  9.64936274e+00 -9.84619755e+00 -9.75179575e+00\n",
      "  1.00053133e+01 -8.17652886e-03  0.00000000e+00  0.00000000e+00\n",
      "  0.00000000e+00  0.00000000e+00  0.00000000e+00 -2.28577986e-02\n",
      "  0.00000000e+00  0.00000000e+00  4.31362256e-02  0.00000000e+00\n",
      "  0.00000000e+00  0.00000000e+00  0.00000000e+00  0.00000000e+00\n",
      "  0.00000000e+00  0.00000000e+00 -2.34598325e-03  0.00000000e+00\n",
      "  0.00000000e+00  0.00000000e+00  0.00000000e+00  0.00000000e+00\n",
      "  5.23757119e-02  0.00000000e+00  0.00000000e+00  0.00000000e+00\n",
      "  0.00000000e+00  0.00000000e+00  0.00000000e+00  0.00000000e+00\n",
      "  0.00000000e+00  0.00000000e+00  0.00000000e+00  0.00000000e+00\n",
      "  0.00000000e+00  1.95527620e-01  0.00000000e+00  0.00000000e+00\n",
      "  0.00000000e+00  0.00000000e+00  0.00000000e+00  0.00000000e+00\n",
      "  0.00000000e+00  0.00000000e+00  5.18464847e-02  0.00000000e+00\n",
      " -1.61033321e-02  0.00000000e+00 -4.45354698e-02 -1.01744159e-02\n",
      "  0.00000000e+00 -4.57422227e-03  0.00000000e+00  0.00000000e+00\n",
      " -4.62366381e-02  1.58481209e-01  0.00000000e+00  0.00000000e+00\n",
      "  0.00000000e+00 -1.94092961e-02  0.00000000e+00 -5.29100297e-04\n",
      "  0.00000000e+00  0.00000000e+00  0.00000000e+00  0.00000000e+00\n",
      "  4.40895916e-02  0.00000000e+00  0.00000000e+00  2.11911881e-02\n",
      "  0.00000000e+00  0.00000000e+00  0.00000000e+00  0.00000000e+00\n",
      "  0.00000000e+00  0.00000000e+00  0.00000000e+00  6.34907604e-02\n",
      " -3.86257824e-02  0.00000000e+00  0.00000000e+00  0.00000000e+00\n",
      "  0.00000000e+00 -4.66606990e-03 -4.52930558e-02 -3.20198377e-02\n",
      " -3.87970699e-05  0.00000000e+00  0.00000000e+00  0.00000000e+00\n",
      "  0.00000000e+00  0.00000000e+00  0.00000000e+00  1.60935794e-02\n",
      "  0.00000000e+00  1.01860962e-01  0.00000000e+00 -9.08743182e-02\n",
      "  0.00000000e+00  0.00000000e+00  0.00000000e+00  0.00000000e+00\n",
      "  0.00000000e+00  0.00000000e+00  0.00000000e+00  0.00000000e+00\n",
      "  0.00000000e+00  0.00000000e+00  0.00000000e+00  0.00000000e+00\n",
      "  4.79974880e-03  0.00000000e+00  1.48989994e-02  0.00000000e+00\n",
      " -2.33933600e-02  0.00000000e+00 -4.99377561e-02  0.00000000e+00\n",
      " -2.54293911e-03  0.00000000e+00  0.00000000e+00  1.42392762e-01\n",
      "  0.00000000e+00  0.00000000e+00  0.00000000e+00  0.00000000e+00\n",
      "  0.00000000e+00  0.00000000e+00  0.00000000e+00  0.00000000e+00\n",
      "  0.00000000e+00  0.00000000e+00  0.00000000e+00  0.00000000e+00\n",
      "  0.00000000e+00  0.00000000e+00  0.00000000e+00  0.00000000e+00\n",
      "  0.00000000e+00  0.00000000e+00  0.00000000e+00  1.21608603e-02\n",
      "  0.00000000e+00  0.00000000e+00]\n",
      "0.0\n",
      "[0, 1, 2, 3, 4, 41, 61, 127]\n",
      "[0, 1, 2, 3, 4]\n"
     ]
    }
   ],
   "source": [
    "# Sub-Problem 1: run lasso and plot the convergence curve\n",
    "# TODO: run lasso for one synthetic data\n",
    "w_lasso, w0_lasso = lasso(X, y, lmda = 10.0, epsilon = 1.0e-2, draw_curve = True, max_iter = 100)\n",
    "# have a look at the lasso model you got (sparse? where?)\n",
    "print(w_lasso)\n",
    "print(w0_lasso)\n",
    "print([i for i in range(len(w_lasso)) if np.abs(w_lasso[i]) > 1.1e-1])\n",
    "print([i for i in range(len(w_true)) if w_true[i] != 0])"
   ]
  },
  {
   "cell_type": "code",
   "execution_count": 307,
   "metadata": {},
   "outputs": [],
   "source": [
    "# Sub-Problem 2\n",
    "# TODO: evaluation function of lasso model\n",
    "def Evaluate(X, y, w, w0, w_true, w0_true):\n",
    "    #########TODO##########\n",
    "    non_zero = set([i for i in range(len(w)) if w[i] != 0])\n",
    "    non_zero_true = set([i for i in range(len(w_true)) if w_true[i] != 0])\n",
    "    intersection = non_zero.intersection(non_zero_true)\n",
    "    if len(non_zero) > 0:\n",
    "        precision_w = len(intersection) / len(non_zero)\n",
    "    else:\n",
    "        precision_w = 1\n",
    "    if len(non_zero_true) > 0:\n",
    "        recall_w = len(intersection) / len(non_zero_true)\n",
    "    else:\n",
    "        precision_w = 1\n",
    "\n",
    "    sparsity_w = len(non_zero)\n",
    "\n",
    "    n = X.shape[0]\n",
    "    y_hat = np.matmul(X, w) + w0\n",
    "    diff = y_hat - y\n",
    "    rmse = np.sqrt(np.dot(diff.T, diff) / n)\n",
    "    return (rmse, sparsity_w, precision_w, recall_w)"
   ]
  },
  {
   "cell_type": "code",
   "execution_count": 308,
   "metadata": {},
   "outputs": [
    {
     "name": "stdout",
     "output_type": "stream",
     "text": [
      "rmse=0.7786786147829086\n",
      "sparsity=38\n",
      "precision=0.13157894736842105\n",
      "recall=1.0\n"
     ]
    }
   ],
   "source": [
    "# Sub-Problem 2\n",
    "# TODO: apply your evaluation function to compute precision (of w), recall (of w), sparsity (of w) and training RMSE\n",
    "Emetric = Evaluate(X, y, w_lasso, w0_lasso, w_true, w0_true)\n",
    "print('rmse={}'.format(Emetric[0]))\n",
    "print('sparsity={}'.format(Emetric[1]))\n",
    "print('precision={}'.format(Emetric[2]))\n",
    "print('recall={}'.format(Emetric[3]))"
   ]
  },
  {
   "cell_type": "code",
   "execution_count": 309,
   "metadata": {},
   "outputs": [
    {
     "name": "stdout",
     "output_type": "stream",
     "text": [
      "1020.190583947795\n"
     ]
    },
    {
     "data": {
      "image/png": "[encoded data removed]",
      "text/plain": [
       "<Figure size 640x480 with 1 Axes>"
      ]
     },
     "metadata": {},
     "output_type": "display_data"
    },
    {
     "name": "stderr",
     "output_type": "stream",
     "text": [
      "No artists with labels found to put in legend.  Note that artists whose label start with an underscore are ignored when legend() is called with no argument.\n"
     ]
    },
    {
     "data": {
      "image/png": "[encoded data removed]",
      "text/plain": [
       "<Figure size 640x480 with 1 Axes>"
      ]
     },
     "metadata": {},
     "output_type": "display_data"
    }
   ],
   "source": [
    "# Sub-Problem 3\n",
    "# TODO: compute a lasso solution path, draw the path(s) in a 2D plot\n",
    "def try_lmda(X, y, w_true, w0_true, draw_curve = False):\n",
    "    y_diff = (y - np.mean(y)).reshape(y.shape[0], -1)\n",
    "    #lmda_max = np.max(np.abs(np.matmul(y_diff.T, X)))\n",
    "    lmda_max = np.max(np.abs((y - np.mean(y)).dot(X)))\n",
    "    #lmda_max = 1050\n",
    "    print(lmda_max)\n",
    "    lmda_min = 0\n",
    "    lmdas = np.linspace(lmda_min, lmda_max, num = 50)\n",
    "    precisions = []\n",
    "    recalls = []\n",
    "    W = np.zeros((X.shape[1], 50))\n",
    "    W0 = np.zeros(50)\n",
    "    for idx, lmda in enumerate(lmdas):\n",
    "        w_lasso, w0_lasso = lasso(\n",
    "            X, y, \n",
    "            lmda = lmda, epsilon = 1.0e-2,\n",
    "            draw_curve = False, max_iter = 100)\n",
    "        emetric = Evaluate(X, y, w_lasso, w0_lasso, w_true, w0_true)\n",
    "        precisions.append(emetric[2])\n",
    "        recalls.append(emetric[3])\n",
    "\n",
    "        W[:, idx] = w_lasso\n",
    "        W0[idx] = w0_lasso\n",
    "        \n",
    "    if draw_curve:\n",
    "        plt.plot(lmdas, precisions)\n",
    "        plt.plot(lmdas, recalls)\n",
    "        plt.xlabel('lambda')\n",
    "        plt.legend(['precision', 'recall'])\n",
    "        plt.savefig('figs/2.3.1n={}m={}.pdf'.format(n, m))\n",
    "        plt.show()\n",
    "\n",
    "        for i in range(X.shape[1]):\n",
    "            if w_true[i] != 0: \n",
    "                plt.plot(lmdas, W[i, :], c = 'r')\n",
    "            else:\n",
    "                plt.plot(lmdas, W[i, :], c = 'b')\n",
    "        if w0_true != 0:\n",
    "            plt.plot(W0, c = 'r')\n",
    "        else:\n",
    "            plt.plot(W0, c = 'b')\n",
    "        plt.legend()\n",
    "        plt.title('n={} m={}'.format(n, m))\n",
    "        plt.xlabel('lambda')\n",
    "        plt.savefig('figs/2.3.2n={}m={}.pdf'.format(n, m))\n",
    "        plt.show()\n",
    "    \n",
    "try_lmda(X, y, w_true, w0_true, draw_curve = True)\n",
    "\n",
    "def LassoPath(X, y):\n",
    "    #########TODO##########\n",
    "    num_lmda = 50\n",
    "    W = np.zeros((X.shape[1], num_lmda))\n",
    "    W0 = np.zeros(num_lmda)\n",
    "\n",
    "    y_diff = (y - np.mean(y)).reshape(y.shape[0], -1)\n",
    "    #lmda_max = np.max(np.matmul(y_diff.T, X))\n",
    "    lmda_max = np.max(np.abs((y - np.mean(y)).dot(X)))\n",
    "    lmda_min = 0\n",
    "    Lmda = np.linspace(lmda_min, lmda_max, num = num_lmda)\n",
    "\n",
    "    for idx, lmda in enumerate(Lmda):\n",
    "        w_lasso, w0_lasso = lasso(\n",
    "            X, y, \n",
    "            lmda = lmda, epsilon = 1.0e-2,\n",
    "            draw_curve = False, max_iter = 100)\n",
    "        W[:, idx] = w_lasso\n",
    "        W0[idx] = w0_lasso\n",
    "\n",
    "    for i in range(X.shape[1]):\n",
    "        if w_true[i] != 0: \n",
    "            plt.plot(Lmda, W[i, :], c = 'r')\n",
    "        else:\n",
    "            plt.plot(Lmda, W[i, :], c = 'b')\n",
    "    if w0_true != 0:\n",
    "        plt.plot(W0, c = 'r')\n",
    "    else:\n",
    "        plt.plot(W0, c = 'b')\n",
    "    plt.legend()\n",
    "    plt.xlabel('lambda')\n",
    "    plt.savefig('figs/2.3.2n={}m={}.pdf'.format(n, m))\n",
    "    plt.show()\n",
    "\n",
    "    return (W, W0, Lmda)\n",
    "\n",
    "#LassoPath(X, y)"
   ]
  },
  {
   "cell_type": "code",
   "execution_count": 310,
   "metadata": {},
   "outputs": [],
   "source": [
    "# Sub-Problem 3\n",
    "# TODO: evaluate a given lasso solution path, draw plot of precision/recall vs. lambda\n",
    "def EvaluatePath(X, y, W, W0, w_true, w0_true, Lmda):\n",
    "    #########TODO##########\n",
    "    return (RMSE, Sparsity, Precision, Recall)"
   ]
  },
  {
   "cell_type": "code",
   "execution_count": 311,
   "metadata": {},
   "outputs": [],
   "source": [
    "# Sub-Problem 3\n",
    "# TODO: draw lasso solution path and precision/recall vs. lambda curves\n",
    "X, y, w_true, w0_true = DataGenerator(n=50, d=75, k=5, sigma=1.0)"
   ]
  },
  {
   "cell_type": "code",
   "execution_count": 312,
   "metadata": {},
   "outputs": [],
   "source": [
    "# Sub-Problem 3\n",
    "# TODO: try a larger std sigma = 10.0\n",
    "X, y, w_true, w0_true = DataGenerator(n=50, d=75, k=5, sigma=10.0)"
   ]
  },
  {
   "cell_type": "code",
   "execution_count": 313,
   "metadata": {},
   "outputs": [],
   "source": [
    "# Sub-Problem 4\n",
    "# TODO: try another 5 different choices of (n,d) \n",
    "# draw lasso solution path and precision/recall vs. lambda curves, use them to estimate the lasso sample complexity\n",
    "X, y, w_true, w0_true = DataGenerator(n=50, d=150, k=5, sigma=1.0)"
   ]
  },
  {
   "cell_type": "code",
   "execution_count": 314,
   "metadata": {},
   "outputs": [],
   "source": [
    "# Sub-Problem 5: predict reviews' star on Yelp\n",
    "# data parser reading yelp data\n",
    "def DataParser(Xfile, yfile, nfile, train_size = 4000, valid_size = 1000):\n",
    "\n",
    "    # read X, y, feature names from file\n",
    "    fName = open(nfile).read().splitlines()\n",
    "    y = np.loadtxt(yfile, dtype=np.int32)\n",
    "    if Xfile.find('mtx') >= 0:\n",
    "        # sparse data\n",
    "        X = io.mmread(Xfile).tocsc()\n",
    "    else:\n",
    "        # dense data\n",
    "        X = np.genfromtxt(Xfile, delimiter=\",\")\n",
    "\n",
    "    # split training, validation and test set\n",
    "    X_train = X[0 : train_size,:]\n",
    "    y_train = y[0 : train_size]\n",
    "    X_valid = X[train_size : train_size + valid_size,:]\n",
    "    y_valid = y[train_size : train_size + valid_size]\n",
    "    X_test = X[train_size + valid_size : np.size(X,0),:]\n",
    "    y_test = y[train_size + valid_size : np.size(y,0)]\n",
    "\n",
    "    return (X_train, y_train, X_valid, y_valid, X_test, y_test, fName)"
   ]
  },
  {
   "cell_type": "code",
   "execution_count": 315,
   "metadata": {},
   "outputs": [],
   "source": [
    "# Sub-Problem 5: predict reviews' star on Yelp\n",
    "# TODO: evaluation funtion that computes the lasso path, evaluates the result, and draws the required plots\n",
    "def Validation(X_train, y_train, X_valid, y_valid):\n",
    "    #########TODO##########\n",
    "    return (w_lasso, w0_lasso, lmda_best)"
   ]
  },
  {
   "cell_type": "code",
   "execution_count": 316,
   "metadata": {},
   "outputs": [
    {
     "ename": "FileNotFoundError",
     "evalue": "[Errno 2] No such file or directory: '../data/star_features.txt'",
     "output_type": "error",
     "traceback": [
      "\u001b[0;31m---------------------------------------------------------------------------\u001b[0m",
      "\u001b[0;31mFileNotFoundError\u001b[0m                         Traceback (most recent call last)",
      "Cell \u001b[0;32mIn[316], line 7\u001b[0m\n\u001b[1;32m      5\u001b[0m \u001b[38;5;28;01mimport\u001b[39;00m \u001b[38;5;21;01mnumpy\u001b[39;00m \u001b[38;5;28;01mas\u001b[39;00m \u001b[38;5;21;01mnp\u001b[39;00m\n\u001b[1;32m      6\u001b[0m \u001b[38;5;28;01mfrom\u001b[39;00m \u001b[38;5;21;01mscipy\u001b[39;00m\u001b[38;5;21;01m.\u001b[39;00m\u001b[38;5;21;01msparse\u001b[39;00m\u001b[38;5;21;01m.\u001b[39;00m\u001b[38;5;21;01mlinalg\u001b[39;00m \u001b[38;5;28;01mimport\u001b[39;00m lsqr\n\u001b[0;32m----> 7\u001b[0m X_train, y_train, X_valid, y_valid, X_test, y_test, fName \u001b[38;5;241m=\u001b[39m \u001b[43mDataParser\u001b[49m\u001b[43m(\u001b[49m\u001b[38;5;124;43m'\u001b[39;49m\u001b[38;5;124;43m../data/star_data.mtx\u001b[39;49m\u001b[38;5;124;43m'\u001b[39;49m\u001b[43m,\u001b[49m\u001b[43m \u001b[49m\u001b[38;5;124;43m'\u001b[39;49m\u001b[38;5;124;43m../data/star_labels.txt\u001b[39;49m\u001b[38;5;124;43m'\u001b[39;49m\u001b[43m,\u001b[49m\u001b[43m \u001b[49m\u001b[38;5;124;43m'\u001b[39;49m\u001b[38;5;124;43m../data/star_features.txt\u001b[39;49m\u001b[38;5;124;43m'\u001b[39;49m\u001b[43m,\u001b[49m\u001b[43m \u001b[49m\u001b[38;5;241;43m30000\u001b[39;49m\u001b[43m,\u001b[49m\u001b[43m \u001b[49m\u001b[38;5;241;43m5000\u001b[39;49m\u001b[43m)\u001b[49m\n\u001b[1;32m      8\u001b[0m \u001b[38;5;28mprint\u001b[39m(X_train\u001b[38;5;241m.\u001b[39mshape, y_train\u001b[38;5;241m.\u001b[39mshape, X_valid\u001b[38;5;241m.\u001b[39mshape, y_valid\u001b[38;5;241m.\u001b[39mshape, X_test\u001b[38;5;241m.\u001b[39mshape, y_test\u001b[38;5;241m.\u001b[39mshape)\n\u001b[1;32m     10\u001b[0m \u001b[38;5;66;03m# evaluation\u001b[39;00m\n",
      "Cell \u001b[0;32mIn[314], line 6\u001b[0m, in \u001b[0;36mDataParser\u001b[0;34m(Xfile, yfile, nfile, train_size, valid_size)\u001b[0m\n\u001b[1;32m      3\u001b[0m \u001b[38;5;28;01mdef\u001b[39;00m \u001b[38;5;21mDataParser\u001b[39m(Xfile, yfile, nfile, train_size \u001b[38;5;241m=\u001b[39m \u001b[38;5;241m4000\u001b[39m, valid_size \u001b[38;5;241m=\u001b[39m \u001b[38;5;241m1000\u001b[39m):\n\u001b[1;32m      4\u001b[0m \n\u001b[1;32m      5\u001b[0m     \u001b[38;5;66;03m# read X, y, feature names from file\u001b[39;00m\n\u001b[0;32m----> 6\u001b[0m     fName \u001b[38;5;241m=\u001b[39m \u001b[38;5;28;43mopen\u001b[39;49m\u001b[43m(\u001b[49m\u001b[43mnfile\u001b[49m\u001b[43m)\u001b[49m\u001b[38;5;241m.\u001b[39mread()\u001b[38;5;241m.\u001b[39msplitlines()\n\u001b[1;32m      7\u001b[0m     y \u001b[38;5;241m=\u001b[39m np\u001b[38;5;241m.\u001b[39mloadtxt(yfile, dtype\u001b[38;5;241m=\u001b[39mnp\u001b[38;5;241m.\u001b[39mint32)\n\u001b[1;32m      8\u001b[0m     \u001b[38;5;28;01mif\u001b[39;00m Xfile\u001b[38;5;241m.\u001b[39mfind(\u001b[38;5;124m'\u001b[39m\u001b[38;5;124mmtx\u001b[39m\u001b[38;5;124m'\u001b[39m) \u001b[38;5;241m>\u001b[39m\u001b[38;5;241m=\u001b[39m \u001b[38;5;241m0\u001b[39m:\n\u001b[1;32m      9\u001b[0m         \u001b[38;5;66;03m# sparse data\u001b[39;00m\n",
      "File \u001b[0;32m~/opt/anaconda3/envs/myenv/lib/python3.10/site-packages/IPython/core/interactiveshell.py:282\u001b[0m, in \u001b[0;36m_modified_open\u001b[0;34m(file, *args, **kwargs)\u001b[0m\n\u001b[1;32m    275\u001b[0m \u001b[39mif\u001b[39;00m file \u001b[39min\u001b[39;00m {\u001b[39m0\u001b[39m, \u001b[39m1\u001b[39m, \u001b[39m2\u001b[39m}:\n\u001b[1;32m    276\u001b[0m     \u001b[39mraise\u001b[39;00m \u001b[39mValueError\u001b[39;00m(\n\u001b[1;32m    277\u001b[0m         \u001b[39mf\u001b[39m\u001b[39m\"\u001b[39m\u001b[39mIPython won\u001b[39m\u001b[39m'\u001b[39m\u001b[39mt let you open fd=\u001b[39m\u001b[39m{\u001b[39;00mfile\u001b[39m}\u001b[39;00m\u001b[39m by default \u001b[39m\u001b[39m\"\u001b[39m\n\u001b[1;32m    278\u001b[0m         \u001b[39m\"\u001b[39m\u001b[39mas it is likely to crash IPython. If you know what you are doing, \u001b[39m\u001b[39m\"\u001b[39m\n\u001b[1;32m    279\u001b[0m         \u001b[39m\"\u001b[39m\u001b[39myou can use builtins\u001b[39m\u001b[39m'\u001b[39m\u001b[39m open.\u001b[39m\u001b[39m\"\u001b[39m\n\u001b[1;32m    280\u001b[0m     )\n\u001b[0;32m--> 282\u001b[0m \u001b[39mreturn\u001b[39;00m io_open(file, \u001b[39m*\u001b[39;49margs, \u001b[39m*\u001b[39;49m\u001b[39m*\u001b[39;49mkwargs)\n",
      "\u001b[0;31mFileNotFoundError\u001b[0m: [Errno 2] No such file or directory: '../data/star_features.txt'"
     ]
    }
   ],
   "source": [
    "# Sub-Problem 5: predict reviews' star on Yelp\n",
    "# TODO: evaluation of your results\n",
    "\n",
    "# load Yelp data: change the address of data files on your own machine if necessary ('../data/' in the below)\n",
    "import numpy as np\n",
    "from scipy.sparse.linalg import lsqr\n",
    "X_train, y_train, X_valid, y_valid, X_test, y_test, fName = DataParser('../data/star_data.mtx', '../data/star_labels.txt', '../data/star_features.txt', 30000, 5000)\n",
    "print(X_train.shape, y_train.shape, X_valid.shape, y_valid.shape, X_test.shape, y_test.shape)\n",
    "\n",
    "# evaluation\n",
    "w_lasso, w0_lasso, lmda_best = Validation(X_train, y_train, X_valid, y_valid)\n",
    "\n",
    "# print the top-10 features you found by lasso\n",
    "idx = (-np.abs(w_lasso)).argsort()[0:10]\n",
    "print('Lasso select features:')\n",
    "for i in range(10):\n",
    "    print(fName[idx[i]],w_lasso[idx[i]])"
   ]
  }
 ],
 "metadata": {
  "kernelspec": {
   "display_name": "Python 3.10.9 ('myenv')",
   "language": "python",
   "name": "python3"
  },
  "language_info": {
   "codemirror_mode": {
    "name": "ipython",
    "version": 3
   },
   "file_extension": ".py",
   "mimetype": "text/x-python",
   "name": "python",
   "nbconvert_exporter": "python",
   "pygments_lexer": "ipython3",
   "version": "3.10.9"
  },
  "vscode": {
   "interpreter": {
    "hash": "cf1ee045094a7edcaf157dc10598d3c573f589dd9a2b2fe8dfda33b9ea61c786"
   }
  }
 },
 "nbformat": 4,
 "nbformat_minor": 2
}
